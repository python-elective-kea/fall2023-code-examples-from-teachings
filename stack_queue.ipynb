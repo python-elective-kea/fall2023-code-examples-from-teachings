{
 "cells": [
  {
   "cell_type": "markdown",
   "metadata": {},
   "source": [
    "## Stack"
   ]
  },
  {
   "cell_type": "code",
   "execution_count": 3,
   "metadata": {},
   "outputs": [],
   "source": [
    "class Stack:\n",
    "    \"\"\"En stack følger sidst-ind-først-ud (LIFO) princippet.\"\"\"\n",
    "    \n",
    "    def __init__(self):\n",
    "        self._stack = []\n",
    "\n",
    "    def push(self, e):\n",
    "        self._stack.append(e)\n",
    "\n",
    "    def pop(self):\n",
    "        return self._stack.pop()\n",
    "    \n",
    "    def __repr__(self):\n",
    "        return f'{self.__dict__}'"
   ]
  },
  {
   "cell_type": "code",
   "execution_count": 5,
   "metadata": {},
   "outputs": [
    {
     "data": {
      "text/plain": [
       "{'_stack': ['a', 'b']}"
      ]
     },
     "execution_count": 5,
     "metadata": {},
     "output_type": "execute_result"
    }
   ],
   "source": [
    "stack = Stack()\n",
    "stack.push('a')\n",
    "stack.push('b')\n",
    "stack.push('c')\n",
    "stack.pop()\n",
    "stack"
   ]
  },
  {
   "cell_type": "code",
   "execution_count": 7,
   "metadata": {},
   "outputs": [
    {
     "name": "stdout",
     "output_type": "stream",
     "text": [
      "None\n",
      "c\n"
     ]
    }
   ],
   "source": [
    "# Opret en tom stack\n",
    "stack = []\n",
    "\n",
    "# Push elementer ind i stacken\n",
    "print(stack.append('a'))\n",
    "stack.append('b')\n",
    "stack.append('c')\n",
    "\n",
    "# Pop et element fra stacken\n",
    "print(stack.pop())  # Output: 'c'\n"
   ]
  },
  {
   "cell_type": "markdown",
   "metadata": {},
   "source": [
    "## Queue"
   ]
  },
  {
   "cell_type": "code",
   "execution_count": 8,
   "metadata": {},
   "outputs": [
    {
     "name": "stdout",
     "output_type": "stream",
     "text": [
      "a\n"
     ]
    }
   ],
   "source": [
    "from collections import deque\n",
    "\n",
    "# Opret en tom queue\n",
    "queue = deque()\n",
    "\n",
    "# Enqueue elementer\n",
    "queue.append('a')\n",
    "queue.append('b')\n",
    "queue.append('c')\n",
    "\n",
    "# Dequeue et element\n",
    "print(queue.popleft())  # Output: 'a'\n"
   ]
  }
 ],
 "metadata": {
  "kernelspec": {
   "display_name": ".venv",
   "language": "python",
   "name": "python3"
  },
  "language_info": {
   "codemirror_mode": {
    "name": "ipython",
    "version": 3
   },
   "file_extension": ".py",
   "mimetype": "text/x-python",
   "name": "python",
   "nbconvert_exporter": "python",
   "pygments_lexer": "ipython3",
   "version": "3.11.6"
  }
 },
 "nbformat": 4,
 "nbformat_minor": 2
}
